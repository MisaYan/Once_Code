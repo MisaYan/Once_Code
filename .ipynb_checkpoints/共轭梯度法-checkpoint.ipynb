{
 "cells": [
  {
   "cell_type": "code",
   "execution_count": 10,
   "metadata": {},
   "outputs": [
    {
     "name": "stdout",
     "output_type": "stream",
     "text": [
      "Optimization terminated successfully.\n",
      "         Current function value: 0.000000\n",
      "         Iterations: 4\n",
      "         Function evaluations: 10\n",
      "         Gradient evaluations: 10\n",
      "[-2.22044605e-15  1.97064587e-15  1.07552856e-16  2.77555756e-17]\n",
      "2.6234163071030105e-29\n"
     ]
    }
   ],
   "source": [
    "import numpy as np\n",
    "from scipy import optimize\n",
    "\n",
    "\n",
    "def f(x, *args):\n",
    "    x1, x2 ,x3, x4 = x\n",
    "    a, b, c, d, e, f,g,h, i, j, k, l, m, n = args\n",
    "    return a*x1**2 + b*x2**2 + c*x3**2 + d*x4**2 + e*x1*x2 + f*x1*x3 + g*x1*x4 + h*x2*x3 + i*x2*x4 +j*x3*x4 + k*x1 + l*x2\n",
    "    + m*x3 + n*x4 \n",
    "\n",
    "def gradf(x, *args):\n",
    "    x1, x2, x3, x4 = x\n",
    "    a, b, c, d, e, f,g,h, i, j, k,l, m, n = args\n",
    "    gx1 = 2*a*x1 + e*x2 + f*x3 + g*x4 + k    # u-component of the gradient\n",
    "    gx2 = 2*b*x2 + e*x1 + h*x3 + i*x4 + l  # v-component of the gradient\n",
    "    gx3 = 2*c*x3 + f*x1 + h*x2 + j*x4 + m\n",
    "    gx4 = 2*d*x4 + g*x1 + i*x2 + j*x3 + n\n",
    "    \n",
    "    return np.asarray((gx1, gx2,gx3,gx4))\n",
    "\n",
    "\n",
    "\n",
    "\n",
    "\n",
    "if __name__ == \"__main__\":\n",
    "    args = (2,2,1,1,-2,0,0,-1,1,0,0,0,0,0)  # parameter values\n",
    "    x0 = np.asarray((2, 1,1,1))  # Initial guess.\n",
    "    res1 = optimize.fmin_cg(f, x0, fprime=gradf, args=args)\n",
    "    #res2 = optimize.fmin(f,x0,args)\n",
    "    print(res1)\n",
    "    #print(res2)\n",
    "    print(f(res1,*args))"
   ]
  },
  {
   "cell_type": "code",
   "execution_count": 62,
   "metadata": {},
   "outputs": [
    {
     "data": {
      "text/plain": [
       "array([[15,  5, -3, -5],\n",
       "       [ 5, 11, -7, -5],\n",
       "       [-3, -7, 24,  2],\n",
       "       [-5, -5,  2, 15]])"
      ]
     },
     "execution_count": 62,
     "metadata": {},
     "output_type": "execute_result"
    }
   ],
   "source": [
    "import numpy as np\n",
    "import random\n",
    "import time\n",
    "from scipy.linalg import orth\n",
    "\n",
    "\n",
    "D = np.diagflat(np.random.rand(4,1))\n",
    "V = scipy.linalg.orth(np.random.rand(4,4))\n",
    "X = np.dot(np.dot(V.T,D), V)\n",
    "X * 100\n",
    "Y = []\n",
    "for i in X*100:\n",
    "    for j in i:\n",
    "        Y.append(int(j))\n",
    "C = np.array(Y)        \n",
    "C.reshape(4,4)"
   ]
  },
  {
   "cell_type": "code",
   "execution_count": 15,
   "metadata": {
    "scrolled": true
   },
   "outputs": [
    {
     "data": {
      "text/plain": [
       "array([[0.45095851],\n",
       "       [0.33154123],\n",
       "       [0.80729414],\n",
       "       [0.62962332]])"
      ]
     },
     "execution_count": 15,
     "metadata": {},
     "output_type": "execute_result"
    }
   ],
   "source": [
    "A = array([[15,  5, -3, -5],\n",
    "       [ 5, 11, -7, -5],\n",
    "       [-3, -7, 24,  2],\n",
    "       [-5, -5,  2, 15]])"
   ]
  }
 ],
 "metadata": {
  "kernelspec": {
   "display_name": "Python 3",
   "language": "python",
   "name": "python3"
  },
  "language_info": {
   "codemirror_mode": {
    "name": "ipython",
    "version": 3
   },
   "file_extension": ".py",
   "mimetype": "text/x-python",
   "name": "python",
   "nbconvert_exporter": "python",
   "pygments_lexer": "ipython3",
   "version": "3.7.3"
  }
 },
 "nbformat": 4,
 "nbformat_minor": 2
}
